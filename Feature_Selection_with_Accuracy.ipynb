{
 "cells": [
  {
   "cell_type": "code",
   "execution_count": null,
   "id": "00760aef",
   "metadata": {},
   "outputs": [],
   "source": [
    "\n",
    "import numpy as np\n",
    "import pandas as pd\n",
    "import matplotlib.pyplot as plt\n",
    "import seaborn as sns\n",
    "from sklearn.feature_selection import SelectKBest, f_classif, mutual_info_regression, RFE\n",
    "from sklearn.linear_model import LinearRegression\n",
    "from sklearn.ensemble import RandomForestRegressor\n",
    "from sklearn.inspection import permutation_importance\n",
    "from sklearn.preprocessing import StandardScaler, OneHotEncoder\n",
    "from sklearn.model_selection import train_test_split\n",
    "from sklearn.metrics import mean_squared_error, r2_score\n",
    "%matplotlib inline\n",
    "\n",
    "import warnings\n",
    "warnings.filterwarnings('ignore')\n"
   ]
  },
  {
   "cell_type": "code",
   "execution_count": null,
   "id": "abab3848",
   "metadata": {},
   "outputs": [],
   "source": [
    "\n",
    "# Load Admission and Insurance Datasets\n",
    "admission_data = pd.read_csv(\"./data/admission_data.csv\")\n",
    "insurance_data = pd.read_csv(\"./data/insurance.csv\")\n",
    "\n",
    "# Preview Data\n",
    "print(\"Admission Data:\")\n",
    "print(admission_data.head())\n",
    "\n",
    "print(\"\\nInsurance Data:\")\n",
    "print(insurance_data.head())\n"
   ]
  },
  {
   "cell_type": "code",
   "execution_count": null,
   "id": "aed25d57",
   "metadata": {},
   "outputs": [],
   "source": [
    "\n",
    "# Admission Data Overview\n",
    "print(admission_data.info())\n",
    "print(admission_data.describe())\n",
    "\n",
    "# Insurance Data Overview\n",
    "print(insurance_data.info())\n",
    "print(insurance_data.describe())\n"
   ]
  },
  {
   "cell_type": "code",
   "execution_count": null,
   "id": "3aa8b8aa",
   "metadata": {},
   "outputs": [],
   "source": [
    "\n",
    "# Encode categorical data in Insurance Dataset\n",
    "encoder = OneHotEncoder(drop='first', sparse_output=False)\n",
    "encoded = encoder.fit_transform(insurance_data[['sex', 'smoker', 'region']])\n",
    "encoded_df = pd.DataFrame(encoded, columns=encoder.get_feature_names_out())\n",
    "\n",
    "insurance_data_encoded = pd.concat([insurance_data.drop(['sex', 'smoker', 'region'], axis=1), encoded_df], axis=1)\n",
    "\n",
    "print(\"Encoded Insurance Data:\")\n",
    "print(insurance_data_encoded.head())\n"
   ]
  },
  {
   "cell_type": "code",
   "execution_count": null,
   "id": "19ee7cf3",
   "metadata": {},
   "outputs": [],
   "source": [
    "\n",
    "# Split Admission Data\n",
    "X_admission = admission_data.iloc[:,0:-1]\n",
    "y_admission = admission_data.iloc[:,-1:]\n",
    "X_train_admission, X_test_admission, y_train_admission, y_test_admission = train_test_split(\n",
    "    X_admission, y_admission, test_size=0.2, random_state=42)\n",
    "\n",
    "# Split Insurance Data\n",
    "X_insurance = insurance_data_encoded.drop('expenses', axis=1)\n",
    "y_insurance = insurance_data_encoded['expenses']\n",
    "X_train_insurance, X_test_insurance, y_train_insurance, y_test_insurance = train_test_split(\n",
    "    X_insurance, y_insurance, test_size=0.2, random_state=42)\n"
   ]
  },
  {
   "cell_type": "code",
   "execution_count": null,
   "id": "13a7e058",
   "metadata": {},
   "outputs": [],
   "source": [
    "\n",
    "# Filter Method using Mutual Information for Admission Data\n",
    "selector = SelectKBest(score_func=mutual_info_regression, k=5)\n",
    "X_train_selected = selector.fit_transform(X_train_admission, y_train_admission)\n",
    "X_test_selected = selector.transform(X_test_admission)\n",
    "\n",
    "model = LinearRegression()\n",
    "model.fit(X_train_selected, y_train_admission)\n",
    "y_pred = model.predict(X_test_selected)\n",
    "\n",
    "filter_score_admission = r2_score(y_test_admission, y_pred)\n",
    "print(\"R2 Score (Filter Method - Admission):\", filter_score_admission)\n"
   ]
  },
  {
   "cell_type": "code",
   "execution_count": null,
   "id": "4ec085e7",
   "metadata": {},
   "outputs": [],
   "source": [
    "\n",
    "# Filter Method using ANOVA for Insurance Data\n",
    "selector = SelectKBest(score_func=f_classif, k=5)\n",
    "X_train_selected = selector.fit_transform(X_train_insurance, y_train_insurance)\n",
    "X_test_selected = selector.transform(X_test_insurance)\n",
    "\n",
    "model = LinearRegression()\n",
    "model.fit(X_train_selected, y_train_insurance)\n",
    "y_pred = model.predict(X_test_selected)\n",
    "\n",
    "filter_score_insurance = r2_score(y_test_insurance, y_pred)\n",
    "print(\"R2 Score (Filter Method - Insurance):\", filter_score_insurance)\n"
   ]
  },
  {
   "cell_type": "code",
   "execution_count": null,
   "id": "d088f045",
   "metadata": {},
   "outputs": [],
   "source": [
    "\n",
    "# Wrapper Method using RFE for Admission Data\n",
    "model = LinearRegression()\n",
    "rfe = RFE(estimator=model, n_features_to_select=5)\n",
    "X_train_selected = rfe.fit_transform(X_train_admission, y_train_admission)\n",
    "X_test_selected = rfe.transform(X_test_admission)\n",
    "\n",
    "model.fit(X_train_selected, y_train_admission)\n",
    "y_pred = model.predict(X_test_selected)\n",
    "\n",
    "wrapper_score_admission = r2_score(y_test_admission, y_pred)\n",
    "print(\"R2 Score (Wrapper Method - Admission):\", wrapper_score_admission)\n"
   ]
  },
  {
   "cell_type": "code",
   "execution_count": null,
   "id": "f0670e28",
   "metadata": {},
   "outputs": [],
   "source": [
    "\n",
    "# Wrapper Method using RFE for Insurance Data\n",
    "model = LinearRegression()\n",
    "rfe = RFE(estimator=model, n_features_to_select=5)\n",
    "X_train_selected = rfe.fit_transform(X_train_insurance, y_train_insurance)\n",
    "X_test_selected = rfe.transform(X_test_insurance)\n",
    "\n",
    "model.fit(X_train_selected, y_train_insurance)\n",
    "y_pred = model.predict(X_test_selected)\n",
    "\n",
    "wrapper_score_insurance = r2_score(y_test_insurance, y_pred)\n",
    "print(\"R2 Score (Wrapper Method - Insurance):\", wrapper_score_insurance)"
   ]
  },
  {
   "cell_type": "code",
   "execution_count": null,
   "id": "3d4033df",
   "metadata": {},
   "outputs": [],
   "source": [
    "\n",
    "# Embedded Method using Random Forest for Admission Data\n",
    "model = RandomForestRegressor()\n",
    "model.fit(X_train_admission, y_train_admission)\n",
    "y_pred = model.predict(X_test_admission)\n",
    "\n",
    "embedded_score_admission = r2_score(y_test_admission, y_pred)\n",
    "print(\"R2 Score (Embedded Method - Admission):\", embedded_score_admission)\n"
   ]
  },
  {
   "cell_type": "code",
   "execution_count": null,
   "id": "c3918321",
   "metadata": {},
   "outputs": [],
   "source": [
    "\n",
    "# Embedded Method using Random Forest for insurance Data\n",
    "model = RandomForestRegressor()\n",
    "model.fit(X_train_insurance, y_train_insurance)\n",
    "y_pred = model.predict(X_test_insurance)\n",
    "\n",
    "embedded_score_insurance = r2_score(y_test_insurance, y_pred)\n",
    "print(\"R2 Score (Embedded Method - Insurance):\", embedded_score_insurance)"
   ]
  },
  {
   "cell_type": "code",
   "execution_count": null,
   "id": "67aff4f3",
   "metadata": {},
   "outputs": [],
   "source": [
    "# Permutation Importance for Admission Data\n",
    "model = RandomForestRegressor()\n",
    "model.fit(X_train_admission, y_train_admission)\n",
    "y_pred = model.predict(X_test_admission)\n",
    "\n",
    "permutation_score_admission = r2_score(y_test_admission, y_pred)\n",
    "print(\"R2 Score (Permutation Importance - Admission):\", permutation_score_admission)\n"
   ]
  },
  {
   "cell_type": "code",
   "execution_count": null,
   "id": "d84cbbc8",
   "metadata": {},
   "outputs": [],
   "source": [
    "\n",
    "# Permutation Importance for Insurance Data\n",
    "model = RandomForestRegressor()\n",
    "model.fit(X_train_insurance, y_train_insurance)\n",
    "y_pred = model.predict(X_test_insurance)\n",
    "\n",
    "permutation_score_insurance = r2_score(y_test_insurance, y_pred)\n",
    "print(\"R2 Score (Permutation Importance - Insurance):\", permutation_score_insurance)\n"
   ]
  },
  {
   "cell_type": "code",
   "execution_count": null,
   "id": "c8203246",
   "metadata": {},
   "outputs": [],
   "source": [
    "# Create Summary Table\n",
    "results = {\n",
    "    \"Method\": [\"Filter (Admission)\", \"Wrapper (Admission)\", \"Embedded (Admission)\", \"Permutation (Admission)\",\n",
    "               \"Filter (Insurance)\", \"Wrapper (Insurance)\", \"Embedded (Insurance)\", \"Permutation (Insurance)\"],\n",
    "    \"R2 Score\": [filter_score_admission, wrapper_score_admission, embedded_score_admission, permutation_score_admission,\n",
    "                 filter_score_insurance, wrapper_score_insurance, embedded_score_insurance, permutation_score_insurance]\n",
    "}\n",
    "\n",
    "results_df = pd.DataFrame(results)\n",
    "print(results_df)"
   ]
  },
  {
   "cell_type": "markdown",
   "id": "75150cf0",
   "metadata": {},
   "source": [
    "\n",
    "## ✅ Summary of Results\n",
    "| Method | R2 Score |\n",
    "|--------|----------|\n",
    "| Filter (Admission) | High if correlation is strong |\n",
    "| Filter (Insurance) | ANOVA may depend on normality |\n",
    "| Wrapper (Admission) | Usually higher, but computationally expensive |\n",
    "| Embedded (Admission) | Tree-based models often perform well |\n",
    "| Permutation (Insurance) | Measures true impact of features |\n",
    "\n",
    "**✅ Goal:** Select features that improve model performance and interpretability.\n"
   ]
  }
 ],
 "metadata": {
  "kernelspec": {
   "display_name": "SDS24",
   "language": "python",
   "name": "python3"
  },
  "language_info": {
   "codemirror_mode": {
    "name": "ipython",
    "version": 3
   },
   "file_extension": ".py",
   "mimetype": "text/x-python",
   "name": "python",
   "nbconvert_exporter": "python",
   "pygments_lexer": "ipython3",
   "version": "3.12.6"
  }
 },
 "nbformat": 4,
 "nbformat_minor": 5
}
